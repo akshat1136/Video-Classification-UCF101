{
  "nbformat": 4,
  "nbformat_minor": 0,
  "metadata": {
    "colab": {
      "name": "VideoClassification.ipynb",
      "provenance": [],
      "collapsed_sections": []
    },
    "kernelspec": {
      "name": "python3",
      "display_name": "Python 3"
    },
    "accelerator": "GPU"
  },
  "cells": [
    {
      "cell_type": "code",
      "metadata": {
        "id": "UylgiHSefj8g",
        "colab_type": "code",
        "outputId": "55ac5123-8d87-4f7c-94cd-f039311d2ad4",
        "colab": {
          "base_uri": "https://localhost:8080/",
          "height": 121
        }
      },
      "source": [
        "from google.colab import drive\n",
        "drive.mount('/content/drive')"
      ],
      "execution_count": 0,
      "outputs": [
        {
          "output_type": "stream",
          "text": [
            "Go to this URL in a browser: https://accounts.google.com/o/oauth2/auth?client_id=947318989803-6bn6qk8qdgf4n4g3pfee6491hc0brc4i.apps.googleusercontent.com&redirect_uri=urn%3aietf%3awg%3aoauth%3a2.0%3aoob&response_type=code&scope=email%20https%3a%2f%2fwww.googleapis.com%2fauth%2fdocs.test%20https%3a%2f%2fwww.googleapis.com%2fauth%2fdrive%20https%3a%2f%2fwww.googleapis.com%2fauth%2fdrive.photos.readonly%20https%3a%2f%2fwww.googleapis.com%2fauth%2fpeopleapi.readonly\n",
            "\n",
            "Enter your authorization code:\n",
            "··········\n",
            "Mounted at /content/drive\n"
          ],
          "name": "stdout"
        }
      ]
    },
    {
      "cell_type": "code",
      "metadata": {
        "id": "clgttWzafkeB",
        "colab_type": "code",
        "colab": {}
      },
      "source": [
        "!cp drive/My\\ Drive/UCF101/NumPy.rar Numpy.rar"
      ],
      "execution_count": 0,
      "outputs": []
    },
    {
      "cell_type": "code",
      "metadata": {
        "id": "jUlVNibggCwa",
        "colab_type": "code",
        "colab": {}
      },
      "source": [
        "!unrar x Numpy.rar"
      ],
      "execution_count": 0,
      "outputs": []
    },
    {
      "cell_type": "code",
      "metadata": {
        "id": "BnppBIgwgwrp",
        "colab_type": "code",
        "colab": {}
      },
      "source": [
        "import os\n",
        "import sys\n",
        "import numpy as np\n",
        "import pickle"
      ],
      "execution_count": 0,
      "outputs": []
    },
    {
      "cell_type": "code",
      "metadata": {
        "id": "dNeqX2DfeRtl",
        "colab_type": "code",
        "colab": {}
      },
      "source": [
        "data = pickle.load(open('Data.p', 'rb'))"
      ],
      "execution_count": 0,
      "outputs": []
    },
    {
      "cell_type": "code",
      "metadata": {
        "id": "f5crJe0Werpz",
        "colab_type": "code",
        "colab": {}
      },
      "source": [
        "num_categories, folder_names, Xtrain, ytrain, Xtest, ytest = data"
      ],
      "execution_count": 0,
      "outputs": []
    },
    {
      "cell_type": "code",
      "metadata": {
        "id": "PmvhlYk7fJzB",
        "colab_type": "code",
        "colab": {}
      },
      "source": [
        "dirs = [int(file.split('_')[1].split('.')[0]) for file in os.listdir('NumPy/')]\n",
        "for i in range(len(list(num_categories.keys()))):\n",
        "    for j in range(num_categories[list(num_categories.keys())[i]]):\n",
        "        if 200*i+j not in dirs:\n",
        "            print(200*i+j)"
      ],
      "execution_count": 0,
      "outputs": []
    },
    {
      "cell_type": "code",
      "metadata": {
        "id": "ffcyts7GNmxV",
        "colab_type": "code",
        "outputId": "261ca4c1-582a-45d5-d87d-0f87a5102b33",
        "colab": {
          "base_uri": "https://localhost:8080/",
          "height": 34
        }
      },
      "source": [
        "Xtrain.shape[0] + Xtest.shape[0]"
      ],
      "execution_count": 0,
      "outputs": [
        {
          "output_type": "execute_result",
          "data": {
            "text/plain": [
              "13320"
            ]
          },
          "metadata": {
            "tags": []
          },
          "execution_count": 11
        }
      ]
    },
    {
      "cell_type": "markdown",
      "metadata": {
        "id": "iJHCzVAJitUl",
        "colab_type": "text"
      },
      "source": [
        "### Data Flow Pipeline"
      ]
    },
    {
      "cell_type": "code",
      "metadata": {
        "id": "OTEtVAMOiypG",
        "colab_type": "code",
        "outputId": "4249f444-e770-41b1-a505-3f097c8bd054",
        "colab": {
          "base_uri": "https://localhost:8080/",
          "height": 101
        }
      },
      "source": [
        "Xtrain[:10], ytrain[:10], Xtest[:5], ytest[:5]"
      ],
      "execution_count": 0,
      "outputs": [
        {
          "output_type": "execute_result",
          "data": {
            "text/plain": [
              "(array([ 9266,  4040, 18716, 13011, 16095, 11113, 12847, 10038, 16489,\n",
              "         6218], dtype=int32),\n",
              " array([46, 20, 93, 65, 80, 55, 64, 50, 82, 31], dtype=int32),\n",
              " array([15848,  7415,  8750, 12338,  1846], dtype=int32),\n",
              " array([79, 37, 43, 61,  9], dtype=int32))"
            ]
          },
          "metadata": {
            "tags": []
          },
          "execution_count": 12
        }
      ]
    },
    {
      "cell_type": "code",
      "metadata": {
        "id": "lOjmWOGTi2Db",
        "colab_type": "code",
        "colab": {}
      },
      "source": [
        "def load_sample(num, time_step = 64):\n",
        "    npy = np.load('NumPy/Features_'+str(num)+'.npy')\n",
        "    shape = npy.shape[0]\n",
        "    out = []\n",
        "    for i in range(time_step):\n",
        "        out.append(npy[int((shape*(i/time_step))//1)])\n",
        "    out = np.array(out)\n",
        "    return out"
      ],
      "execution_count": 0,
      "outputs": []
    },
    {
      "cell_type": "code",
      "metadata": {
        "id": "MfTYK3v0mCJY",
        "colab_type": "code",
        "colab": {}
      },
      "source": [
        "def create_batch(num, X_t, batch_size=64, time_step=64):\n",
        "    X = []\n",
        "    batch = X_t[num:num+batch_size]\n",
        "    for i in batch:\n",
        "        X.append(load_sample(i, time_step))\n",
        "    X = np.array(X)\n",
        "    return X"
      ],
      "execution_count": 0,
      "outputs": []
    },
    {
      "cell_type": "code",
      "metadata": {
        "id": "ihfB91eqpTFo",
        "colab_type": "code",
        "colab": {}
      },
      "source": [
        "def create_data(X_t, batch_size=64, time_step=64):\n",
        "    X_train = []\n",
        "    for num in range(0, X_t.shape[0]-batch_size, batch_size):\n",
        "        X_train.append(create_batch(num, X_t, batch_size, time_step))\n",
        "    return np.array(X_train)"
      ],
      "execution_count": 0,
      "outputs": []
    },
    {
      "cell_type": "code",
      "metadata": {
        "id": "mCvIc2FCOaM2",
        "colab_type": "code",
        "colab": {}
      },
      "source": [
        "X_train = create_data(Xtrain).reshape((187*64,64,512))"
      ],
      "execution_count": 0,
      "outputs": []
    },
    {
      "cell_type": "code",
      "metadata": {
        "id": "_vJvIBz1TYe1",
        "colab_type": "code",
        "colab": {}
      },
      "source": [
        "X_test = create_data(Xtest).reshape((20*64,64,512))"
      ],
      "execution_count": 0,
      "outputs": []
    },
    {
      "cell_type": "code",
      "metadata": {
        "id": "BtYbBgyST9eL",
        "colab_type": "code",
        "outputId": "5810de23-f3df-41b2-dac2-ee6e76650c96",
        "colab": {
          "base_uri": "https://localhost:8080/",
          "height": 34
        }
      },
      "source": [
        "X_train.shape, X_test.shape"
      ],
      "execution_count": 0,
      "outputs": [
        {
          "output_type": "execute_result",
          "data": {
            "text/plain": [
              "((11968, 64, 512), (1280, 64, 512))"
            ]
          },
          "metadata": {
            "tags": []
          },
          "execution_count": 70
        }
      ]
    },
    {
      "cell_type": "markdown",
      "metadata": {
        "id": "AppGOMPIog8h",
        "colab_type": "text"
      },
      "source": [
        "### Model"
      ]
    },
    {
      "cell_type": "code",
      "metadata": {
        "id": "NKCRdalIojq9",
        "colab_type": "code",
        "colab": {}
      },
      "source": [
        "import numpy as np\n",
        "import sys\n",
        "import os\n",
        "import tensorflow as tf\n",
        "import matplotlib.pyplot as plt\n",
        "from keras import backend as K\n",
        "from keras.layers import Input, Dense, Dropout, LSTM\n",
        "from keras.models import Model\n",
        "from keras.utils import to_categorical\n",
        "import pickle"
      ],
      "execution_count": 0,
      "outputs": []
    },
    {
      "cell_type": "code",
      "metadata": {
        "id": "vNM43svbX_Bp",
        "colab_type": "code",
        "outputId": "1e512fa7-9456-42bd-df34-201ac13628ca",
        "colab": {
          "base_uri": "https://localhost:8080/",
          "height": 34
        }
      },
      "source": [
        "y_train = to_categorical(ytrain, 101)\n",
        "y_test = to_categorical(ytest, 101)\n",
        "y_train.shape, y_test.shape"
      ],
      "execution_count": 0,
      "outputs": [
        {
          "output_type": "execute_result",
          "data": {
            "text/plain": [
              "((11988, 101), (1332, 101))"
            ]
          },
          "metadata": {
            "tags": []
          },
          "execution_count": 75
        }
      ]
    },
    {
      "cell_type": "code",
      "metadata": {
        "id": "WqxLS3HIT5J2",
        "colab_type": "code",
        "colab": {}
      },
      "source": [
        "def rnn(input_shape):\n",
        "    input1 = Input(input_shape)\n",
        "\n",
        "    X = LSTM(768, dropout=0.3, return_sequences=True)(input1)\n",
        "    X = LSTM(512, dropout=0.3)(X)\n",
        "    X = Dense(1024, activation = 'relu')(X)\n",
        "    X = Dropout(0.3)(X)\n",
        "    X = Dense(101, activation='softmax')(X)\n",
        "\n",
        "    return Model(input1, X)\n"
      ],
      "execution_count": 0,
      "outputs": []
    },
    {
      "cell_type": "code",
      "metadata": {
        "id": "mQmquwCcWuYX",
        "colab_type": "code",
        "outputId": "0cbe2e74-1619-4956-d819-52cfed09ecf4",
        "colab": {
          "base_uri": "https://localhost:8080/",
          "height": 353
        }
      },
      "source": [
        "Rnn = rnn((64,512))\n",
        "Rnn.summary()"
      ],
      "execution_count": 0,
      "outputs": [
        {
          "output_type": "stream",
          "text": [
            "Model: \"model_10\"\n",
            "_________________________________________________________________\n",
            "Layer (type)                 Output Shape              Param #   \n",
            "=================================================================\n",
            "input_11 (InputLayer)        (None, 64, 512)           0         \n",
            "_________________________________________________________________\n",
            "lstm_16 (LSTM)               (None, 64, 768)           3935232   \n",
            "_________________________________________________________________\n",
            "lstm_17 (LSTM)               (None, 512)               2623488   \n",
            "_________________________________________________________________\n",
            "dense_19 (Dense)             (None, 1024)              525312    \n",
            "_________________________________________________________________\n",
            "dropout_9 (Dropout)          (None, 1024)              0         \n",
            "_________________________________________________________________\n",
            "dense_20 (Dense)             (None, 101)               103525    \n",
            "=================================================================\n",
            "Total params: 7,187,557\n",
            "Trainable params: 7,187,557\n",
            "Non-trainable params: 0\n",
            "_________________________________________________________________\n"
          ],
          "name": "stdout"
        }
      ]
    },
    {
      "cell_type": "code",
      "metadata": {
        "id": "SWDlJJB1XH5X",
        "colab_type": "code",
        "colab": {}
      },
      "source": [
        "Rnn.compile(optimizer='adam', loss='categorical_crossentropy', metrics=['acc'])"
      ],
      "execution_count": 0,
      "outputs": []
    },
    {
      "cell_type": "code",
      "metadata": {
        "id": "1K-974FTWz9-",
        "colab_type": "code",
        "colab": {}
      },
      "source": [
        "history = Rnn.fit(X_train, y_train[:11968], batch_size=512, epochs=10, validation_split=0.1)"
      ],
      "execution_count": 0,
      "outputs": []
    },
    {
      "cell_type": "code",
      "metadata": {
        "id": "o0XsYPxgdxV6",
        "colab_type": "code",
        "outputId": "be506d1a-6a80-403e-ac77-aba57c88e7db",
        "colab": {
          "base_uri": "https://localhost:8080/",
          "height": 50
        }
      },
      "source": [
        "Rnn.evaluate(X_test, y_test[:1280])"
      ],
      "execution_count": 0,
      "outputs": [
        {
          "output_type": "stream",
          "text": [
            "1280/1280 [==============================] - 5s 4ms/step\n"
          ],
          "name": "stdout"
        },
        {
          "output_type": "execute_result",
          "data": {
            "text/plain": [
              "[0.2785111678298563, 0.92421875]"
            ]
          },
          "metadata": {
            "tags": []
          },
          "execution_count": 125
        }
      ]
    },
    {
      "cell_type": "code",
      "metadata": {
        "id": "HG5m3gD9pZH7",
        "colab_type": "code",
        "colab": {}
      },
      "source": [
        "Rnn.save('Epoch100.h5')"
      ],
      "execution_count": 0,
      "outputs": []
    },
    {
      "cell_type": "code",
      "metadata": {
        "id": "VA4H0-WL4fI5",
        "colab_type": "code",
        "colab": {}
      },
      "source": [
        ""
      ],
      "execution_count": 0,
      "outputs": []
    }
  ]
}